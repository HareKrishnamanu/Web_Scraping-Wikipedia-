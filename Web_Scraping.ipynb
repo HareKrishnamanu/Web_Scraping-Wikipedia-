{
  "nbformat": 4,
  "nbformat_minor": 0,
  "metadata": {
    "colab": {
      "provenance": []
    },
    "kernelspec": {
      "name": "python3",
      "display_name": "Python 3"
    },
    "language_info": {
      "name": "python"
    }
  },
  "cells": [
    {
      "cell_type": "markdown",
      "source": [
        "# Website = https://en.wikipedia.org/wiki/List_of_Hindi_films_of_1980"
      ],
      "metadata": {
        "id": "1yq9VioSXelf"
      }
    },
    {
      "cell_type": "code",
      "source": [
        "from bs4 import BeautifulSoup\n",
        "import requests"
      ],
      "metadata": {
        "id": "srYE_YymY-Qk"
      },
      "execution_count": 3,
      "outputs": []
    },
    {
      "cell_type": "code",
      "source": [
        "response = requests.get('https://en.wikipedia.org/wiki/List_of_Hindi_films_of_1980')"
      ],
      "metadata": {
        "id": "n7SdovU7ZVTc"
      },
      "execution_count": 4,
      "outputs": []
    },
    {
      "cell_type": "code",
      "source": [
        "# To check the status of the response\n",
        "response.status_code"
      ],
      "metadata": {
        "colab": {
          "base_uri": "https://localhost:8080/"
        },
        "id": "3yHqzVjeZ3-0",
        "outputId": "1e6f0849-f910-45a9-a8ec-5ccef4fcafe9"
      },
      "execution_count": 5,
      "outputs": [
        {
          "output_type": "execute_result",
          "data": {
            "text/plain": [
              "200"
            ]
          },
          "metadata": {},
          "execution_count": 5
        }
      ]
    },
    {
      "cell_type": "code",
      "source": [
        "print(response.text[:1000])"
      ],
      "metadata": {
        "colab": {
          "base_uri": "https://localhost:8080/"
        },
        "id": "qOKwvq5_aCNp",
        "outputId": "cef2757d-1e69-4a48-c9b0-853ce63733c1"
      },
      "execution_count": 6,
      "outputs": [
        {
          "output_type": "stream",
          "name": "stdout",
          "text": [
            "<!DOCTYPE html>\n",
            "<html class=\"client-nojs vector-feature-language-in-header-enabled vector-feature-language-in-main-page-header-disabled vector-feature-sticky-header-disabled vector-feature-page-tools-pinned-disabled vector-feature-toc-pinned-clientpref-1 vector-feature-main-menu-pinned-disabled vector-feature-limited-width-clientpref-1 vector-feature-limited-width-content-enabled vector-feature-zebra-design-enabled vector-feature-custom-font-size-clientpref-0 vector-feature-client-preferences-disabled vector-feature-client-prefs-pinned-disabled vector-toc-available\" lang=\"en\" dir=\"ltr\">\n",
            "<head>\n",
            "<meta charset=\"UTF-8\">\n",
            "<title>List of Hindi films of 1980 - Wikipedia</title>\n",
            "<script>(function(){var className=\"client-js vector-feature-language-in-header-enabled vector-feature-language-in-main-page-header-disabled vector-feature-sticky-header-disabled vector-feature-page-tools-pinned-disabled vector-feature-toc-pinned-clientpref-1 vector-feature-main-menu-pinned-disabled vector-feature-limite\n"
          ]
        }
      ]
    },
    {
      "cell_type": "code",
      "source": [
        "type(response.text)"
      ],
      "metadata": {
        "colab": {
          "base_uri": "https://localhost:8080/"
        },
        "id": "uYufxrpxbXeV",
        "outputId": "5c543cb4-04dd-4a8c-ca32-6caedf6ce35c"
      },
      "execution_count": 7,
      "outputs": [
        {
          "output_type": "execute_result",
          "data": {
            "text/plain": [
              "str"
            ]
          },
          "metadata": {},
          "execution_count": 7
        }
      ]
    },
    {
      "cell_type": "code",
      "source": [
        "html = response.text"
      ],
      "metadata": {
        "id": "na_zGSJXbaT3"
      },
      "execution_count": 8,
      "outputs": []
    },
    {
      "cell_type": "code",
      "source": [
        "data = BeautifulSoup(html,'html.parser')"
      ],
      "metadata": {
        "id": "nrKuaxO4bgRl"
      },
      "execution_count": 9,
      "outputs": []
    },
    {
      "cell_type": "code",
      "source": [
        "# To make the data look good we will be using  method called as prettify\n",
        "print(data.prettify())"
      ],
      "metadata": {
        "id": "ORTQDYT-cRmx"
      },
      "execution_count": null,
      "outputs": []
    },
    {
      "cell_type": "code",
      "source": [
        "# If we want to see the title name\n",
        "print(data.title)"
      ],
      "metadata": {
        "id": "jMvPHhkjcjoy"
      },
      "execution_count": null,
      "outputs": []
    },
    {
      "cell_type": "code",
      "source": [
        "# Again to look good we should we changing into the string format\n",
        "print(data.title.string)"
      ],
      "metadata": {
        "id": "yYfmDRrec5aq"
      },
      "execution_count": null,
      "outputs": []
    },
    {
      "cell_type": "code",
      "source": [
        "# To find all of the headings\n",
        "headings_before_table = data.find_all('h2')\n",
        "print(headings_before_table)"
      ],
      "metadata": {
        "id": "Eu0RjRy3dVPX"
      },
      "execution_count": null,
      "outputs": []
    },
    {
      "cell_type": "code",
      "source": [
        "# To find the tables\n",
        "table_data = data.find_all('table', class_ = 'wikitable')\n",
        "print(len(table_data))"
      ],
      "metadata": {
        "id": "EGUh1lQ6feNc"
      },
      "execution_count": null,
      "outputs": []
    },
    {
      "cell_type": "code",
      "source": [
        "table_data = data.find('table', class_ = 'wikitable')\n",
        "rows = table_data.find_all('tr')\n",
        "print(rows)"
      ],
      "metadata": {
        "id": "GCHzXLORg4IY"
      },
      "execution_count": null,
      "outputs": []
    },
    {
      "cell_type": "code",
      "source": [
        "# Now to make the dataset we have to be following the below code\n",
        "\n",
        "movies = []\n",
        "for row in rows :\n",
        "  curr_movie= []\n",
        "  for cell in row.find_all(\"td\"):\n",
        "    if cell.string != \"\\n\" and cell.string != None:\n",
        "        curr_movie.append(cell.string)\n",
        "\n",
        "    else:\n",
        "        curr_movie.append(\"NA\")\n",
        "  movies.append(curr_movie)\n",
        "\n",
        "# Now lets print the movies dataset\n",
        "print(movies)"
      ],
      "metadata": {
        "colab": {
          "base_uri": "https://localhost:8080/"
        },
        "id": "0ckuRQws7PXz",
        "outputId": "d95d849b-9228-467d-f3da-d237a4ad2fc4"
      },
      "execution_count": 16,
      "outputs": [
        {
          "output_type": "stream",
          "name": "stdout",
          "text": [
            "[[], ['Aakrosh', 'Govind Nihalani', 'NA', 'Drama, Mystery, Thriller', 'NA'], ['Aanchal', 'Anil Ganguly', 'NA', 'Action, Family, Drama, Comedy', 'NA'], ['Aap Ke Deewane', 'Surendra Mohan', 'NA', 'Romance', 'NA'], ['Aap To Aise Na The', 'Ambrish Sangal', 'NA', 'Romance, Drama, Family', 'NA'], ['Aasha', 'J. Om Prakash', 'NA', 'Drama, Family, Musical, Romance', 'NA'], ['Abdullah', 'Sanjay Khan', 'NA', 'Action, Drama, Family', 'NA'], ['Abhimanyu', 'Mahesh Bhatt', 'NA', 'NA', 'NA'], ['Agent 009', 'NA', 'NA', 'Action', 'NA'], ['Agreement', 'Anil Ganguly', 'NA', 'Musical, Comedy, Drama, Family', 'NA'], ['Akhri Insaaf', 'Kalidas', 'NA', 'Action', 'NA'], ['Albert Pinto Ko Gussa Kyoon Aata Hai', 'Saeed Akhtar Mirza', 'NA', 'Comedy, Drama, Romance', 'NA'], ['Alibaba Aur 40 Chor', 'NA', 'NA', 'Action, Adventure, Family, Romance', 'NA'], ['Ambe Maa Jagdambe Maa', 'Sukhdev Ahluwalia', 'NA', 'History, Comedy, Drama, Family', 'NA'], ['Angaar', 'Ashok Roy', 'NA', 'Suspense', 'NA'], ['Apne Paraye', 'Basu Chatterji', 'NA', 'Drama, Family, Comedy', 'NA'], ['Arising from the Surface', 'Mani Kaul', 'Bharat Gopi,  M. K. Raina', 'Compilation', 'NA'], ['Badla Aur Balidan', 'Kawal Sharma', 'NA', 'NA', 'NA'], ['Badrinath Dham', 'Ashish Kumar', 'Lalita Pawar', 'NA', 'NA'], ['Bakhe Kadam', 'K. Shivram', 'NA', 'Drama', 'NA'], ['Bambai Ka Maharaja', 'Shibu Mitra', 'NA', 'NA', 'NA'], ['Bandish', 'K. Bapaiah', 'NA', 'Action, Crime, Drama, Romance', 'NA'], ['Be-Reham', 'R. Jhalani', 'NA', 'NA', 'NA'], ['Beqasoor', 'B.P. Harisinghaney', 'NA', 'Action, Crime, Drama, Thriller', 'NA'], ['Bhumi Par Aaye Bhagwan', 'Ravi', 'NA', 'Action, Drama, Fantasy', 'NA'], ['Bin Maa Ke Bachche', 'Satyen Bose', 'NA', 'NA', 'NA'], ['Black Water', 'Shibu Mitra', 'Shashi Kapoor, Neetu Singh, Ajit Singh, Amjad Khan, Raza Murad', 'NA', 'NA'], ['Bombay 405 Miles', 'Brij Sadanah', 'NA', 'Comedy, Action', 'NA'], ['Chaal Baaz', 'Hari Mehra', 'NA', 'Action', 'NA'], ['Chambal Ki Kasam', 'Ram Maheshwary', 'NA', 'Action, Crime', 'NA'], ['Choron Ki Baaraat', 'Harmesh Malhotra', 'NA', 'Action', 'NA'], ['Chunaoti', 'Satpal', 'NA', 'Action, Thriller', 'NA'], ['Desh Drohi', 'Prakash Mehra', 'NA', 'Action', 'NA'], ['Dhamaka', 'Jagdesh', 'NA', 'NA', 'NA'], ['Dhan Daulat', 'Harish Shah', 'NA', 'NA', 'NA'], ['Do Aur Do Paanch', 'Rakesh Kumar', 'NA', 'Action, Comedy, Drama, Musical, Romance', 'NA'], ['Do Premee', 'Raj Khosla', 'NA', 'Romance', 'NA'], ['Do Shatru', 'Kewal Misra', 'NA', 'NA', 'NA'], ['Door Waadiyon Mein Kahin', 'Kishore Kumar', 'Kishore Kumar', 'NA', 'NA'], ['Dostana', 'Raj Khosla', 'NA', 'NA', 'NA'], ['Ek Baar Kaho', 'Lekh Tandon', 'NA', 'Romance, Family Drama', 'NA'], ['Ek Baar Phir', 'Vinod Pande', 'NA', 'Drama', 'NA'], ['Ek Do Teen Chaar', 'Vijay Anand', 'NA', 'Action', 'NA'], ['Ek Gunah Aur Sahi', 'Yogi Kathuria', 'NA', 'NA', 'NA'], ['Ganga Aur Suraj', 'A. Salaam', 'NA', 'NA', 'NA'], ['Ganga Dham', 'B. S. Thapa', 'NA', 'Action', 'NA'], ['Gehrayee', 'Arunavikas, Arunavikas', 'NA', 'Horror', 'NA'], ['Garam Khoon', 'A. Saalam', 'NA', 'Action', 'NA'], ['Guest House', 'NA', 'NA', 'Horror', 'NA'], ['Gunehgaar', 'Rahul Rawail', 'NA', 'NA', 'NA'], ['Hum Nahin Sudherenge', 'Asrani', 'NA', 'NA', 'NA'], ['Humkadam', 'Anil Ganguly', 'NA', 'Musical, Drama, Family', 'NA'], ['Hum Paanch', 'Bapu', 'NA', 'Family, Action', 'NA'], ['Insaf Ka Tarazu', 'B.R. Chopra', 'NA', 'Drama, Crime, Family', 'NA'], ['Jaaye To Jaaye Kahan', 'NA', 'NA', 'NA', 'NA'], ['Jal Mahal', 'R. Jhalani', 'NA', 'Fantasy', 'NA'], ['Jazbaat', 'Suraj Prakash', 'NA', 'Romance, Drama', 'NA'], ['Judaai', 'T. Rama Rao', 'NA', 'Family, Drama', 'NA'], ['Jwalamukhi', 'Prakash Mehra', 'NA', 'Action, Romance, Drama, Family', 'NA'], ['Jyoti Bane Jwala', 'Dasari Narayana Rao', 'NA', 'Action, Drama, Family', 'NA'], ['Kali Ghata', 'Ved Rahi', 'NA', 'Thriller, Mystery, Romance', 'NA'], ['Kasturi', 'Bimal Dutta', 'NA', 'Drama', 'NA'], ['Khanjar', 'Atma Ram', 'NA', 'Action, Thriller', 'NA'], ['Karz', 'Subhash Ghai', 'NA', 'Musical', 'NA'], ['Khoon Kharaba', 'Deepak Bahry', 'NA', 'NA', 'NA'], ['Khubsoorat', 'Hrishikesh Mukherjee', 'NA', 'Comedy, Drama, Family', 'NA'], ['Khwab', 'Shakti Samanta', 'NA', 'Crime, Drama, Romance', 'NA'], ['Kismet', 'Bhisham Kohli', 'NA', 'Action, Family, Musical', 'NA'], ['Lahu Pukarega', 'Akthar -Ul-Iman', 'NA', 'Action', 'NA'], ['Lootmaar', 'Dev Anand', 'NA', 'Action, Thriller', 'NA'], ['Maan Abhiman', 'Hiren Nag', 'NA', 'Drama, Family', 'NA'], ['Maang Bharo Sajana', 'T. Rama Rao', 'NA', 'Drama', 'NA'], ['Mahashakti', 'K. S. Giri', 'NA', 'NA', 'NA'], ['Man Pasand', 'Basu Chatterjee', 'NA', 'Comedy, Drama, Family', 'NA'], ['Manokaamnaa', 'Kedar Kapoor', 'NA', 'Drama, Romance', 'NA'], ['Morchha', 'Ravikant Nagaich', 'NA', 'NA', 'NA'], ['Nazrana Pyar Ka', 'S. M. Sagar', 'NA', 'Drama', 'NA'], ['Neeyat', 'Anil Ganguly', 'NA', 'Family, Drama', 'NA'], ['Nishana', 'K. Raghavendra Rao', 'NA', 'Action', 'NA'], ['Oh Bewafa', 'Saawan Kumar Tak', 'NA', 'Drama, Romance', 'NA'], ['Patita', 'I. V. Sasi', 'Shoma Anand, Vikram, Raj Kiran', 'NA', 'NA'], ['Patthar Se Takkar', 'Gulab Mehta', 'NA', 'Action, Crime, Thriller', 'NA'], ['Payal Ki Jhankaar', 'Satyan Bose', 'NA', 'Romance', 'NA'], ['Phir Wahi Raat', 'Danny Denzongpa', 'NA', 'Crime, Horror, Mystery', 'NA'], ['Pyaara Dushman', 'Anand Sagar', 'NA', 'Action', 'NA'], ['Qatil Kaun', 'Amit Bose', 'Sameer Khan,  Nanda,  Rita Bakshi,  Ranjeet', 'NA', 'NA'], ['Qurbani', 'Feroz Khan', 'NA', 'Romance', 'NA'], ['Raksha Bandhan', 'Shantilal Soni', 'NA', 'NA', 'NA'], ['Ram Balram', 'Vijay Anand', 'NA', 'Action', 'NA'], ['Red Rose', 'Bharathi Rajaa', 'NA', 'Adventure, Crime, Musical, Romance, Thriller', 'NA'], ['Saajan Mere Main Saajan Ki', 'Hiren Nag', 'NA', 'NA', 'NA'], ['Saboot', 'NA', 'NA', 'Thriller', 'NA'], ['Sanjh Ki Bela', 'Madhusudan', 'NA', 'Romance', 'NA'], ['Satah Se Uthata Aadmi', 'Mani Kaul', 'NA', 'Compilation', 'NA'], ['Sau Din Saas Ke', 'Vijay Sadanah', 'NA', 'Drama', 'NA'], ['Shaan', 'Ramesh Sippy', 'NA', 'Action', 'NA'], ['Shadi Se Pahale', 'Karunesh Thakur', 'NA', 'Drama', 'NA'], ['Shiv Shakti', 'NA', 'NA', 'NA', 'NA'], ['Sitara', 'Meraj', 'NA', 'Drama, Family', 'NA'], ['Sparsh', 'Sai Paranjpye', 'NA', 'Drama', 'NA'], ['Swayamvar', 'P. Sambasiva Rao', 'NA', 'Drama, Family, Action, Comedy', 'NA'], ['Takkar', 'K. Bapaiah', 'NA', 'Action', 'NA'], ['Taxi Chor', 'Sushil Vyas', 'NA', 'Action', 'NA'], ['Teen Ekkey', 'Jogender Sehlley', 'NA', 'NA', 'NA'], ['The Burning Train', 'Ravi Chopra', 'NA', 'Action', 'NA'], ['The Naxalites', 'Khwaja Ahmad Abbas', 'NA', 'Drama', 'NA'], ['Thodisi Bewafaii', 'Esmayeel Shroff', 'NA', 'Drama, Family', 'NA'], ['Trilok Sundari', 'Singeetham Srinivasa Rao', 'NA', 'NA', 'NA'], ['Unees-Bees', 'Swaroop Kumar', 'NA', 'NA', 'NA'], ['Yari Dushmani', 'Sikandar Khanna', 'NA', 'NA', 'NA'], ['Yeh Kaisa Insaf?', 'Narayana Rao Dasari', 'NA', 'Drama', 'NA'], ['Zakhmon Ke Nishan', 'Diljeet Bassi', 'NA', 'Action', 'NA'], ['Zalim', 'B. Subhash', 'NA', 'NA', 'NA']]\n"
          ]
        }
      ]
    },
    {
      "cell_type": "code",
      "source": [
        "# To make the dataframe we wil be working on the pandas library\n",
        "\n",
        "import pandas as pd\n",
        "\n",
        "\n",
        "df = pd.DataFrame()\n",
        "\n",
        "for row in movies:\n",
        "    if len(row) != 0:\n",
        "        df = df.append({'Movie name': row[0], 'Director': row[1], 'Cast': row[2], 'Genre': row[3]}, ignore_index=True)"
      ],
      "metadata": {
        "id": "mjO43a6G9G-v"
      },
      "execution_count": null,
      "outputs": []
    },
    {
      "cell_type": "code",
      "source": [
        "# Now lets print the dataframe\n",
        "print(df)"
      ],
      "metadata": {
        "id": "Qkk9mCah_yrQ"
      },
      "execution_count": null,
      "outputs": []
    },
    {
      "cell_type": "code",
      "source": [
        "# Let's see the top 5 and last 5 for better understanding\n",
        "df.head()"
      ],
      "metadata": {
        "id": "Cq3MEtFj_5em"
      },
      "execution_count": null,
      "outputs": []
    },
    {
      "cell_type": "code",
      "source": [
        "df.tail()"
      ],
      "metadata": {
        "id": "iAWNLCiDAQlr"
      },
      "execution_count": null,
      "outputs": []
    }
  ]
}